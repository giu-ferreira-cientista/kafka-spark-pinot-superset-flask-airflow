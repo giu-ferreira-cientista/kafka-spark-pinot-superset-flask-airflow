{
 "cells": [
  {
   "cell_type": "code",
   "execution_count": 29,
   "metadata": {},
   "outputs": [],
   "source": [
    "from pyspark.sql import SparkSession\n",
    "import pandas as pd\n",
    "import uuid\n",
    "import random\n",
    "import json\n",
    "from pyspark.sql import SparkSession\n",
    "from pyspark.sql.types import *\n",
    "from pyspark.sql.functions import *\n",
    "import requests"
   ]
  },
  {
   "cell_type": "code",
   "execution_count": 37,
   "metadata": {
    "tags": []
   },
   "outputs": [],
   "source": [
    "# Spark session & context\n",
    "spark = (SparkSession\n",
    "         .builder\n",
    "         .master('local')\n",
    "         .appName('json-ml-predict-consumer')\n",
    "         # Add kafka package\n",
    "         .config(\"spark.jars.packages\", \"org.apache.spark:spark-sql-kafka-0-10_2.12:3.1.1\")\n",
    "         .getOrCreate())\n",
    "sc = spark.sparkContext"
   ]
  },
  {
   "cell_type": "code",
   "execution_count": 38,
   "metadata": {},
   "outputs": [],
   "source": [
    "\n",
    "# Create stream dataframe setting kafka server, topic and offset option\n",
    "df = (spark\n",
    "  .readStream \\\n",
    "  .format(\"kafka\") \\\n",
    "  .option(\"kafka.bootstrap.servers\", \"kafka-server:29092\") \\\n",
    "  .option(\"subscribe\", \"patient-data\") \\\n",
    "  .option(\"startingOffsets\", \"earliest\") \\\n",
    "  .option(\"group_id\", \"my-group\")   \\\n",
    "  .load())"
   ]
  },
  {
   "cell_type": "code",
   "execution_count": 39,
   "metadata": {
    "tags": []
   },
   "outputs": [],
   "source": [
    "\n",
    "mySchema = StructType([\n",
    " StructField(\"id\", IntegerType()),\n",
    " StructField(\"nome\", StringType()),\n",
    " StructField(\"idade\", IntegerType()),\n",
    " StructField(\"sexo\", IntegerType()),\n",
    " StructField(\"peso\", DoubleType()),\n",
    " StructField(\"altura\", IntegerType()),\n",
    " StructField(\"bpm\", DoubleType()),\n",
    " StructField(\"pressao\", DoubleType()),\n",
    " StructField(\"respiracao\", DoubleType()),\n",
    " StructField(\"temperatura\", DoubleType()),\n",
    " StructField(\"glicemia\", DoubleType()),\n",
    " StructField(\"saturacao_oxigenio\", DoubleType()),\n",
    " StructField(\"estado_atividade\", IntegerType()),\n",
    " StructField(\"dia_de_semana\", IntegerType()),\n",
    " StructField(\"periodo_do_dia\", IntegerType()),\n",
    " StructField(\"semana_do_mes\", IntegerType()),\n",
    " StructField(\"estacao_do_ano\", IntegerType()),\n",
    " StructField(\"passos\", IntegerType()),\n",
    " StructField(\"calorias\", DoubleType()),\n",
    " StructField(\"distancia\", DoubleType()),\n",
    " StructField(\"tempo\", DoubleType()),\n",
    " StructField(\"total_sleep_last_24\", DoubleType()),\n",
    " StructField(\"deep_sleep_last_24\", DoubleType()),\n",
    " StructField(\"light_sleep_last_24\", DoubleType()),\n",
    " StructField(\"awake_last_24\", DoubleType()),\n",
    " StructField(\"fumante\", IntegerType()),\n",
    " StructField(\"genetica\", IntegerType()),\n",
    " StructField(\"gestante\", IntegerType()),\n",
    " StructField(\"frutas\", IntegerType()),\n",
    " StructField(\"vegetais\", IntegerType()),\n",
    " StructField(\"alcool\", IntegerType()),\n",
    " StructField(\"doenca_coracao\", IntegerType()),     \n",
    " StructField(\"avc\", IntegerType()),\n",
    " StructField(\"colesterol_alto\", IntegerType()),   \n",
    " StructField(\"exercicio\", IntegerType()),   \n",
    " StructField(\"timestampstr\", TimestampType()),\n",
    " StructField(\"timestamp_epoch\", StringType())\n",
    " \n",
    "])\n",
    "\n",
    "df_json = df.selectExpr('CAST(value AS STRING) as json')"
   ]
  },
  {
   "cell_type": "code",
   "execution_count": 44,
   "metadata": {},
   "outputs": [],
   "source": [
    "df_json.select(from_json(df_json.json, mySchema).alias('raw_data')) \\\n",
    "  .select('raw_data.nome') \\\n",
    "  .filter(\"nome is not NULL\") \\\n",
    "  .writeStream \\\n",
    "  .trigger(once=True) \\\n",
    "  .format(\"console\") \\\n",
    "  .start() \n",
    "  #.awaitTermination()\n"
   ]
  },
  {
   "cell_type": "code",
   "execution_count": 9,
   "metadata": {},
   "outputs": [
    {
     "name": "stdout",
     "output_type": "stream",
     "text": [
      "{\"data\":\"I love you\"}\n",
      "{\"compound\": 0.6369, \"neg\": 0.0, \"neu\": 0.192, \"pos\": 0.808}\n"
     ]
    }
   ],
   "source": [
    "# Test service\n",
    "import requests\n",
    "import json\n",
    "from pycaret.classification import *\n",
    "\n",
    "#data_jsons = '{\"data\":\"' + 'I love you' + '\"}'\n",
    "#print(data_jsons)\n",
    "#result = requests.post('http://127.0.0.1:5000/predict', json=json.loads(data_jsons))\n",
    "#print(json.dumps(result.json()))\n",
    "\n",
    "model = load_model('model')\n",
    "#exp_clf101 = setup(data = df, target = 'Diabetes_012', use_gpu=False, silent=True)\n"
   ]
  },
  {
   "cell_type": "code",
   "execution_count": 51,
   "metadata": {},
   "outputs": [],
   "source": [
    "def predict_diabetes(patient):\n",
    "    import requests\n",
    "    import json\n",
    "    \n",
    "    data_teste = pd.DataFrame()\n",
    "    data_teste['HighBP'] = [0]  \n",
    "    data_teste['HighChol'] = [0]\n",
    "    data_teste['BMI'] = [21]\n",
    "    data_teste['Smoker'] = [0] \n",
    "    data_teste['Stroke'] = [1]\n",
    "    data_teste['HeartDiseaseorAttack'] = [0] \n",
    "    data_teste['Fruits'] = [1] \n",
    "    data_teste['Veggies'] = [1]\n",
    "    data_teste['HvyAlcoholConsump'] = [0]\n",
    "    data_teste['Sex'] = [1]\n",
    "    data_teste['PhysActivity'] = [1]\n",
    "    data_teste['Age'] = [1]\n",
    "\n",
    "    #realiza a predição.\n",
    "    result = predict_model(model, data=data_teste)\n",
    "\n",
    "    #recupera os resultados.\n",
    "    classe = result[\"Label\"][0]\n",
    "    prob = result[\"Score\"][0]*100\n",
    "\n",
    "    print(classe)\n",
    "    print(prob)\n",
    "\n",
    "    print(data_teste)\n",
    "    \n",
    "    result = requests.post('http://localhost:5000/predict-diabetes', json=json.loads(data_teste))\n",
    "    return json.dumps(result.json())\n",
    "\n",
    "vader_udf = udf(lambda patient: apply_sentiment_analysis(patient), StringType())\n"
   ]
  },
  {
   "cell_type": "code",
   "execution_count": 52,
   "metadata": {},
   "outputs": [],
   "source": [
    "schema_output = StructType([StructField('classe', StringType()),\\\n",
    "                            StructField('prob', StringType())])\n",
    "\n",
    "df_json.select(from_json(df_json.json, mySchema).alias('raw_data')) \\\n",
    "  .select('raw_data.*') \\\n",
    "  .select('nome', \\\n",
    "          from_json(vader_udf('nome'), schema_output).alias('response'))\\\n",
    "  .select('nome', 'response.*') \\\n",
    "  .writeStream \\\n",
    "  .trigger(once=True) \\\n",
    "  .format(\"console\") \\\n",
    "  .start() \\\n",
    "  .awaitTermination()"
   ]
  },
  {
   "cell_type": "code",
   "execution_count": null,
   "metadata": {},
   "outputs": [],
   "source": []
  }
 ],
 "metadata": {
  "kernelspec": {
   "display_name": "Python 3",
   "language": "python",
   "name": "python3"
  },
  "language_info": {
   "codemirror_mode": {
    "name": "ipython",
    "version": 3
   },
   "file_extension": ".py",
   "mimetype": "text/x-python",
   "name": "python",
   "nbconvert_exporter": "python",
   "pygments_lexer": "ipython3",
   "version": "3.9.4"
  }
 },
 "nbformat": 4,
 "nbformat_minor": 4
}
