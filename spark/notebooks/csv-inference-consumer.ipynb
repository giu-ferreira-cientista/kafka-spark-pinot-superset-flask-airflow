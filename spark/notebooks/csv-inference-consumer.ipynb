{
 "cells": [
  {
   "cell_type": "code",
   "execution_count": 1,
   "id": "2208d5b9-aa28-40c9-b500-196aa490310e",
   "metadata": {},
   "outputs": [],
   "source": [
    "# csv_inference_consumer.py\n",
    "\n",
    "from kafka import KafkaConsumer, KafkaProducer\n",
    "import os\n",
    "import json\n",
    "import uuid\n",
    "from concurrent.futures import ThreadPoolExecutor\n"
   ]
  },
  {
   "cell_type": "code",
   "execution_count": 5,
   "id": "cfd30cb8-c661-4e72-a62f-a58bd69cd664",
   "metadata": {},
   "outputs": [],
   "source": [
    "\n",
    "TOPIC_NAME = \"avgdata\"\n",
    "\n",
    "KAFKA_SERVER = \"kafka-server:29092\"\n",
    "\n",
    "NOTIFICATION_TOPIC = \"NOTIFICATION\"\n",
    "EMAIL_TOPIC = \"EMAIL\"\n"
   ]
  },
  {
   "cell_type": "code",
   "execution_count": 9,
   "id": "6587de9c-a52b-48e6-8a4c-77cb070d3e8a",
   "metadata": {},
   "outputs": [],
   "source": [
    "\n",
    "consumer = KafkaConsumer(\n",
    "    TOPIC_NAME,\n",
    "    bootstrap_servers=['kafka-server:9092'],\n",
    "    auto_offset_reset='earliest',\n",
    "    enable_auto_commit=True,\n",
    "    # to deserialize kafka.producer.object into dict\n",
    "    #value_deserializer=lambda m: json.loads(m.decode('utf-8')),\n",
    ")\n"
   ]
  },
  {
   "cell_type": "code",
   "execution_count": 10,
   "id": "d271ebe9-8ce8-443d-b99c-3cc09133de8d",
   "metadata": {},
   "outputs": [],
   "source": [
    "producer = KafkaProducer(\n",
    "    bootstrap_servers = KAFKA_SERVER,\n",
    "    api_version = (0, 11, 15)\n",
    ")"
   ]
  },
  {
   "cell_type": "code",
   "execution_count": null,
   "id": "2e96acbd-2a7f-4cce-bfcd-5f5d3333ea35",
   "metadata": {},
   "outputs": [],
   "source": [
    "def inferenceProcessFunction(data):\n",
    "    # process steps      \n",
    "    print(data)\n",
    "    notification_data = data\n",
    "    email_data = data\n",
    "    producer.send(NOTIFICATION_TOPIC, notification_data)\n",
    "    producer.flush()\n",
    "    producer.send(EMAIL_TOPIC, email_data)\n",
    "    producer.flush()\n"
   ]
  },
  {
   "cell_type": "code",
   "execution_count": null,
   "id": "177f3b15-8ec5-428b-9469-df9795392824",
   "metadata": {},
   "outputs": [],
   "source": [
    "\n",
    "for inf in consumer:    \n",
    "    inf_data = inf.value        \n",
    "    inferenceProcessFunction(inf_data)"
   ]
  }
 ],
 "metadata": {
  "kernelspec": {
   "display_name": "Python 3",
   "language": "python",
   "name": "python3"
  },
  "language_info": {
   "codemirror_mode": {
    "name": "ipython",
    "version": 3
   },
   "file_extension": ".py",
   "mimetype": "text/x-python",
   "name": "python",
   "nbconvert_exporter": "python",
   "pygments_lexer": "ipython3",
   "version": "3.9.4"
  }
 },
 "nbformat": 4,
 "nbformat_minor": 5
}
