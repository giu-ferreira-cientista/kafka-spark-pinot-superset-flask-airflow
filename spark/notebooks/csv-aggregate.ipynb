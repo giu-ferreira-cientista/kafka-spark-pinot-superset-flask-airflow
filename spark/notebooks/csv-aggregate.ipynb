{
 "cells": [
  {
   "cell_type": "code",
   "execution_count": 34,
   "id": "ec70525a-a64d-4aad-bb57-b451559b3c4d",
   "metadata": {},
   "outputs": [],
   "source": [
    "from pyspark.sql import functions as F\n",
    "from pyspark.sql import types as T\n",
    "from pyspark.sql import SparkSession\n",
    "from pyspark.sql.types import StructType,StructField, StringType, IntegerType, DoubleType, TimestampType \t\n",
    "\n",
    "\n",
    "\n",
    "# Spark session & context\n",
    "spark = (SparkSession\n",
    "         .builder\n",
    "         .master('local')\n",
    "         .appName('csv-aggregator')\n",
    "         # Add kafka package\n",
    "         .config(\"spark.jars.packages\", \"org.apache.spark:spark-sql-kafka-0-10_2.12:3.1.1\")\n",
    "         .getOrCreate())\n",
    "sc = spark.sparkContext\n",
    "\n",
    "\n"
   ]
  },
  {
   "cell_type": "code",
   "execution_count": 45,
   "id": "dd434c42-ff2c-4154-8139-008ed268072f",
   "metadata": {},
   "outputs": [],
   "source": [
    "df = (spark\n",
    "  .readStream\n",
    "  .format(\"kafka\")\n",
    "  .option(\"kafka.bootstrap.servers\", \"kafka-server:29092\") # kafka server\n",
    "  .option(\"subscribe\", \"national-health-indicators\") # topic\n",
    "  .option(\"startingOffsets\", \"earliest\") # start from beginning\n",
    "  .load())\n",
    "\n"
   ]
  },
  {
   "cell_type": "code",
   "execution_count": 46,
   "id": "355a1557-1545-4ea7-a82c-d0fc336a40eb",
   "metadata": {},
   "outputs": [],
   "source": [
    "# create schema for patient\n",
    "mySchema = StructType([\n",
    " StructField(\"id\", IntegerType()),\n",
    " StructField(\"nome\", StringType()),\n",
    " StructField(\"idade\", IntegerType()),\n",
    " StructField(\"sexo\", IntegerType()),\n",
    " StructField(\"peso\", DoubleType()),\n",
    " StructField(\"bpm\", DoubleType()),\n",
    " StructField(\"pressao\", DoubleType()),\n",
    " StructField(\"respiracao\", DoubleType()),\n",
    " StructField(\"temperatura\", DoubleType()),\n",
    " StructField(\"glicemia\", DoubleType()),\n",
    " StructField(\"saturacao_oxigenio\", DoubleType()),\n",
    " StructField(\"estado_atividade\", IntegerType()),\n",
    " StructField(\"dia_de_semana\", IntegerType()),\n",
    " StructField(\"periodo_do_dia\", IntegerType()),\n",
    " StructField(\"semana_do_mes\", IntegerType()),\n",
    " StructField(\"estacao_do_ano\", IntegerType()),\n",
    " StructField(\"passos\", IntegerType()),\n",
    " StructField(\"calorias\", DoubleType()),\n",
    " StructField(\"distancia\", DoubleType()),\n",
    " StructField(\"tempo\", DoubleType()),\n",
    " StructField(\"total_sleep_last_24\", DoubleType()),\n",
    " StructField(\"deep_sleep_last_24\", DoubleType()),\n",
    " StructField(\"light_sleep_last_24\", DoubleType()),\n",
    " StructField(\"awake_last_24\", DoubleType()),\n",
    " StructField(\"timestamp\", TimestampType())\n",
    " \n",
    "])\n",
    "\n",
    "# extract data and ensure `eventTime` is timestamp\n",
    "df = (\n",
    "    df.selectExpr(\"CAST(value as string)\")\n",
    "      .select(F.from_json(F.col(\"value\"),mySchema).alias(\"json_value\"))\n",
    "      .selectExpr(\"json_value.*\") # gives us a dataframe with columns (eventTime,temperatura, etc...)\n",
    "      .select(\n",
    "          F.expr(\"CAST(timestamp as timestamp)\").alias(\"eventTime\"),\n",
    "          F.col(\"temperatura\"),\n",
    "          F.col(\"bpm\")\n",
    "      )\n",
    "      \n",
    ")\n"
   ]
  },
  {
   "cell_type": "code",
   "execution_count": 47,
   "id": "6237a5ee-5fd4-4416-82be-88dbb50190a9",
   "metadata": {},
   "outputs": [],
   "source": [
    "\n",
    "# when using window you will get a range or value resembling [start,end]. \n",
    "# I have chosen the `start` for this example\n",
    "from pyspark.sql.functions import col, window\n",
    "\n",
    "windowedAvg = ( \n",
    "    df.withWatermark(\"eventTime\", \"5 minutes\") \n",
    "      .groupBy(window(F.col(\"eventTime\"), \"5 minutes\").alias('eventTimeWindow'))\n",
    "      .agg(F.avg(\"temperatura\").alias(\"avgtemperature\"),F.avg(\"bpm\").alias(\"avgbpm\"))       \n",
    "      .select(\n",
    "          F.col(\"eventTimeWindow.start\").alias(\"eventTime\"),\n",
    "          F.col(\"avgtemperature\"),\n",
    "          F.col(\"avgbpm\")\n",
    "          \n",
    "      )\n",
    ")\n"
   ]
  },
  {
   "cell_type": "code",
   "execution_count": 52,
   "id": "848a154f-f586-4d69-97c3-ea3f21991925",
   "metadata": {},
   "outputs": [],
   "source": [
    "\n",
    "# continue with your code to write to your various streams\n",
    "query = windowedAvg\\\n",
    "        .select(\n",
    "            F.expr(\"CAST(eventTime AS STRING)\").alias(\"key\"),\n",
    "            F.expr(\"(CAST(avgtemperature AS STRING))\").alias(\"temperatura\"),\n",
    "            F.expr(\"CAST(avgbpm AS STRING)\").alias(\"bpm\"),\n",
    "        ) \\\n",
    "        .writeStream\\\n",
    "        .outputMode('complete')\\\n",
    "        .format('console')\\\n",
    "        .option('truncate', 'true')\\\n",
    "        .start()\n",
    "\n"
   ]
  },
  {
   "cell_type": "code",
   "execution_count": 82,
   "id": "51a1febf-2f2a-4a72-8243-c2554e18ff20",
   "metadata": {},
   "outputs": [
    {
     "ename": "ParseException",
     "evalue": "\nmismatched input '''' expecting {<EOF>, '-'}(line 1, pos 11)\n\n== SQL ==\n'{'''avgbpm''':' || CAST(avgbpm AS STRING) || ',' || ''''avgtemp''':' || CAST(avgtemperature AS STRING) || '}'\n-----------^^^\n",
     "output_type": "error",
     "traceback": [
      "\u001b[0;31m---------------------------------------------------------------------------\u001b[0m",
      "\u001b[0;31mParseException\u001b[0m                            Traceback (most recent call last)",
      "\u001b[0;32m<ipython-input-82-3c8d3b4d6c23>\u001b[0m in \u001b[0;36m<module>\u001b[0;34m\u001b[0m\n\u001b[1;32m      8\u001b[0m         .select(\n\u001b[1;32m      9\u001b[0m             \u001b[0mF\u001b[0m\u001b[0;34m.\u001b[0m\u001b[0mexpr\u001b[0m\u001b[0;34m(\u001b[0m\u001b[0;34m\"CAST(eventTime AS STRING)\"\u001b[0m\u001b[0;34m)\u001b[0m\u001b[0;34m.\u001b[0m\u001b[0malias\u001b[0m\u001b[0;34m(\u001b[0m\u001b[0;34m\"key\"\u001b[0m\u001b[0;34m)\u001b[0m\u001b[0;34m,\u001b[0m\u001b[0;34m\u001b[0m\u001b[0;34m\u001b[0m\u001b[0m\n\u001b[0;32m---> 10\u001b[0;31m             \u001b[0mF\u001b[0m\u001b[0;34m.\u001b[0m\u001b[0mexpr\u001b[0m\u001b[0;34m(\u001b[0m\u001b[0;34m\"'{'''avgbpm''':' || CAST(avgbpm AS STRING) || ',' || ''''avgtemp''':' || CAST(avgtemperature AS STRING) || '}'\"\u001b[0m\u001b[0;34m)\u001b[0m\u001b[0;34m.\u001b[0m\u001b[0malias\u001b[0m\u001b[0;34m(\u001b[0m\u001b[0;34m\"value\"\u001b[0m\u001b[0;34m)\u001b[0m\u001b[0;34m\u001b[0m\u001b[0;34m\u001b[0m\u001b[0m\n\u001b[0m\u001b[1;32m     11\u001b[0m         )\n\u001b[1;32m     12\u001b[0m         \u001b[0;34m.\u001b[0m\u001b[0mwriteStream\u001b[0m\u001b[0;34m\u001b[0m\u001b[0;34m\u001b[0m\u001b[0m\n",
      "\u001b[0;32m/usr/local/spark/python/pyspark/sql/functions.py\u001b[0m in \u001b[0;36mexpr\u001b[0;34m(str)\u001b[0m\n\u001b[1;32m   1325\u001b[0m     \"\"\"\n\u001b[1;32m   1326\u001b[0m     \u001b[0msc\u001b[0m \u001b[0;34m=\u001b[0m \u001b[0mSparkContext\u001b[0m\u001b[0;34m.\u001b[0m\u001b[0m_active_spark_context\u001b[0m\u001b[0;34m\u001b[0m\u001b[0;34m\u001b[0m\u001b[0m\n\u001b[0;32m-> 1327\u001b[0;31m     \u001b[0;32mreturn\u001b[0m \u001b[0mColumn\u001b[0m\u001b[0;34m(\u001b[0m\u001b[0msc\u001b[0m\u001b[0;34m.\u001b[0m\u001b[0m_jvm\u001b[0m\u001b[0;34m.\u001b[0m\u001b[0mfunctions\u001b[0m\u001b[0;34m.\u001b[0m\u001b[0mexpr\u001b[0m\u001b[0;34m(\u001b[0m\u001b[0mstr\u001b[0m\u001b[0;34m)\u001b[0m\u001b[0;34m)\u001b[0m\u001b[0;34m\u001b[0m\u001b[0;34m\u001b[0m\u001b[0m\n\u001b[0m\u001b[1;32m   1328\u001b[0m \u001b[0;34m\u001b[0m\u001b[0m\n\u001b[1;32m   1329\u001b[0m \u001b[0;34m\u001b[0m\u001b[0m\n",
      "\u001b[0;32m/usr/local/spark/python/lib/py4j-0.10.9-src.zip/py4j/java_gateway.py\u001b[0m in \u001b[0;36m__call__\u001b[0;34m(self, *args)\u001b[0m\n\u001b[1;32m   1302\u001b[0m \u001b[0;34m\u001b[0m\u001b[0m\n\u001b[1;32m   1303\u001b[0m         \u001b[0manswer\u001b[0m \u001b[0;34m=\u001b[0m \u001b[0mself\u001b[0m\u001b[0;34m.\u001b[0m\u001b[0mgateway_client\u001b[0m\u001b[0;34m.\u001b[0m\u001b[0msend_command\u001b[0m\u001b[0;34m(\u001b[0m\u001b[0mcommand\u001b[0m\u001b[0;34m)\u001b[0m\u001b[0;34m\u001b[0m\u001b[0;34m\u001b[0m\u001b[0m\n\u001b[0;32m-> 1304\u001b[0;31m         return_value = get_return_value(\n\u001b[0m\u001b[1;32m   1305\u001b[0m             answer, self.gateway_client, self.target_id, self.name)\n\u001b[1;32m   1306\u001b[0m \u001b[0;34m\u001b[0m\u001b[0m\n",
      "\u001b[0;32m/usr/local/spark/python/pyspark/sql/utils.py\u001b[0m in \u001b[0;36mdeco\u001b[0;34m(*a, **kw)\u001b[0m\n\u001b[1;32m    115\u001b[0m                 \u001b[0;31m# Hide where the exception came from that shows a non-Pythonic\u001b[0m\u001b[0;34m\u001b[0m\u001b[0;34m\u001b[0m\u001b[0;34m\u001b[0m\u001b[0m\n\u001b[1;32m    116\u001b[0m                 \u001b[0;31m# JVM exception message.\u001b[0m\u001b[0;34m\u001b[0m\u001b[0;34m\u001b[0m\u001b[0;34m\u001b[0m\u001b[0m\n\u001b[0;32m--> 117\u001b[0;31m                 \u001b[0;32mraise\u001b[0m \u001b[0mconverted\u001b[0m \u001b[0;32mfrom\u001b[0m \u001b[0;32mNone\u001b[0m\u001b[0;34m\u001b[0m\u001b[0;34m\u001b[0m\u001b[0m\n\u001b[0m\u001b[1;32m    118\u001b[0m             \u001b[0;32melse\u001b[0m\u001b[0;34m:\u001b[0m\u001b[0;34m\u001b[0m\u001b[0;34m\u001b[0m\u001b[0m\n\u001b[1;32m    119\u001b[0m                 \u001b[0;32mraise\u001b[0m\u001b[0;34m\u001b[0m\u001b[0;34m\u001b[0m\u001b[0m\n",
      "\u001b[0;31mParseException\u001b[0m: \nmismatched input '''' expecting {<EOF>, '-'}(line 1, pos 11)\n\n== SQL ==\n'{'''avgbpm''':' || CAST(avgbpm AS STRING) || ',' || ''''avgtemp''':' || CAST(avgtemperature AS STRING) || '}'\n-----------^^^\n"
     ]
    }
   ],
   "source": [
    "\n",
    "# write on kafka topic avgtemperature\n",
    "# here i've chosen as an example to use the eventTime as the key and the value to be the avgtemperature\n",
    "qk = (windowedAvg \n",
    "        #.select(\n",
    "        #    F.expr(\"CAST(eventTime AS STRING)\").alias(\"key\"),\n",
    "        #    F.expr(\"(CAST(avgtemperature AS STRING), CAST(avgbpm AS STRING))\").alias(\"value\")            \n",
    "        #)\n",
    "        .select(\n",
    "            F.expr(\"CAST(eventTime AS STRING)\").alias(\"key\"),\n",
    "            F.expr(\"'{''avgbpm''':' || CAST(avgbpm AS STRING) || ',' || ''''avgtemp''':' || CAST(avgtemperature AS STRING) || '}'\").alias(\"value\")            \n",
    "        )\n",
    "        .writeStream \n",
    "        .format(\"kafka\")\n",
    "        .option(\"kafka.bootstrap.servers\", \"kafka-server:29092\") \n",
    "        .option(\"checkpointLocation\", \"/home/jovyan/work/csv/agg/7\") \n",
    "        .option(\"topic\", \"avgtemperaturebpmcsv7\")        \n",
    "        .outputMode(\"complete\") \n",
    "        .start())\n",
    "        \n",
    "query.awaitTermination()"
   ]
  },
  {
   "cell_type": "code",
   "execution_count": null,
   "id": "e55261e6-28ad-4cdd-9965-2dee4e5acc09",
   "metadata": {},
   "outputs": [],
   "source": []
  }
 ],
 "metadata": {
  "kernelspec": {
   "display_name": "Python 3",
   "language": "python",
   "name": "python3"
  },
  "language_info": {
   "codemirror_mode": {
    "name": "ipython",
    "version": 3
   },
   "file_extension": ".py",
   "mimetype": "text/x-python",
   "name": "python",
   "nbconvert_exporter": "python",
   "pygments_lexer": "ipython3",
   "version": "3.9.4"
  }
 },
 "nbformat": 4,
 "nbformat_minor": 5
}
