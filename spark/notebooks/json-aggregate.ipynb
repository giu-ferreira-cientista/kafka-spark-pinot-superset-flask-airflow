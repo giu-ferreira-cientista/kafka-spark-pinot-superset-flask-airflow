{
 "cells": [
  {
   "cell_type": "code",
   "execution_count": 13,
   "id": "ec70525a-a64d-4aad-bb57-b451559b3c4d",
   "metadata": {},
   "outputs": [],
   "source": [
    "from pyspark.sql import functions as F\n",
    "from pyspark.sql import types as T\n",
    "from pyspark.sql import SparkSession\n",
    "from pyspark.sql.types import StructType,StructField, StringType, IntegerType, DoubleType, TimestampType \t\n",
    "\n",
    "\n",
    "\n",
    "# Spark session & context\n",
    "spark = (SparkSession\n",
    "         .builder\n",
    "         .master('local')\n",
    "         .appName('json-aggregator')\n",
    "         # Add kafka package\n",
    "         .config(\"spark.jars.packages\", \"org.apache.spark:spark-sql-kafka-0-10_2.12:3.1.1\")\n",
    "         .getOrCreate())\n",
    "sc = spark.sparkContext\n",
    "\n",
    "\n"
   ]
  },
  {
   "cell_type": "code",
   "execution_count": 14,
   "id": "dd434c42-ff2c-4154-8139-008ed268072f",
   "metadata": {},
   "outputs": [],
   "source": [
    "df = (spark\n",
    "  .readStream\n",
    "  .format(\"kafka\")\n",
    "  .option(\"kafka.bootstrap.servers\", \"kafka-server:29092\") # kafka server\n",
    "  .option(\"subscribe\", \"patient-data\") # topic\n",
    "  .option(\"startingOffsets\", \"earliest\") # start from beginning\n",
    "  .load())\n",
    "\n"
   ]
  },
  {
   "cell_type": "code",
   "execution_count": 15,
   "id": "355a1557-1545-4ea7-a82c-d0fc336a40eb",
   "metadata": {},
   "outputs": [],
   "source": [
    "# create schema for patient\n",
    "mySchema = StructType([\n",
    " StructField(\"id\", IntegerType()),\n",
    " StructField(\"nome\", StringType()),\n",
    " StructField(\"idade\", IntegerType()),\n",
    " StructField(\"sexo\", IntegerType()),\n",
    " StructField(\"peso\", DoubleType()),\n",
    " StructField(\"bpm\", DoubleType()),\n",
    " StructField(\"pressao\", DoubleType()),\n",
    " StructField(\"respiracao\", DoubleType()),\n",
    " StructField(\"temperatura\", DoubleType()),\n",
    " StructField(\"glicemia\", DoubleType()),\n",
    " StructField(\"saturacao_oxigenio\", DoubleType()),\n",
    " StructField(\"estado_atividade\", IntegerType()),\n",
    " StructField(\"dia_de_semana\", IntegerType()),\n",
    " StructField(\"periodo_do_dia\", IntegerType()),\n",
    " StructField(\"semana_do_mes\", IntegerType()),\n",
    " StructField(\"estacao_do_ano\", IntegerType()),\n",
    " StructField(\"passos\", IntegerType()),\n",
    " StructField(\"calorias\", DoubleType()),\n",
    " StructField(\"distancia\", DoubleType()),\n",
    " StructField(\"tempo\", DoubleType()),\n",
    " StructField(\"total_sleep_last_24\", DoubleType()),\n",
    " StructField(\"deep_sleep_last_24\", DoubleType()),\n",
    " StructField(\"light_sleep_last_24\", DoubleType()),\n",
    " StructField(\"awake_last_24\", DoubleType()),\n",
    " StructField(\"timestampstr\", TimestampType()),\n",
    " StructField(\"timestamp_epoch\", StringType())       \n",
    " \n",
    "])\n",
    "\n",
    "# extract data and ensure `eventTime` is timestamp\n",
    "df = (\n",
    "    df.selectExpr(\"CAST(value as string)\")\n",
    "      .select(F.from_json(F.col(\"value\"),mySchema).alias(\"json_value\"))\n",
    "      .selectExpr(\"json_value.*\") # gives us a dataframe with columns (eventTime,temperatura, etc...)\n",
    "      .select(\n",
    "          F.expr(\"CAST(timestampstr as timestamp)\").alias(\"eventTime\"),\n",
    "          F.col(\"nome\"),\n",
    "          F.col(\"temperatura\"),\n",
    "          F.col(\"bpm\")\n",
    "      )\n",
    "      \n",
    ")\n"
   ]
  },
  {
   "cell_type": "code",
   "execution_count": 16,
   "id": "6237a5ee-5fd4-4416-82be-88dbb50190a9",
   "metadata": {},
   "outputs": [],
   "source": [
    "\n",
    "# when using window you will get a range or value resembling [start,end]. \n",
    "# I have chosen the `start` for this example\n",
    "from pyspark.sql.functions import col, window\n",
    "\n",
    "windowedAvg = ( \n",
    "    df.withWatermark(\"eventTime\", \"5 minutes\") \n",
    "      .groupBy(window(F.col(\"eventTime\"), \"5 minutes\").alias('eventTimeWindow'), F.col(\"nome\"))\n",
    "      .agg(F.avg(\"temperatura\").alias(\"avgtemperature\"),F.avg(\"bpm\").alias(\"avgbpm\"))       \n",
    "      .orderBy(F.col(\"eventTimeWindow\"))\n",
    "      .select(\n",
    "          F.col(\"eventTimeWindow.start\").alias(\"eventTime\"),\n",
    "          F.col(\"nome\"),\n",
    "          F.col(\"avgtemperature\"),\n",
    "          F.col(\"avgbpm\")\n",
    "          \n",
    "      )\n",
    ")\n"
   ]
  },
  {
   "cell_type": "code",
   "execution_count": 17,
   "id": "848a154f-f586-4d69-97c3-ea3f21991925",
   "metadata": {},
   "outputs": [],
   "source": [
    "\n",
    "# continue with your code to write to your various streams\n",
    "query = windowedAvg\\\n",
    "        .select(\n",
    "            F.expr(\"CAST(eventTime AS STRING)\").alias(\"key\"),\n",
    "            F.expr(\"'{\\\"eventTime\\\":\\\"' || CAST(eventTime AS STRING) || '\\\",' || '\\\"nome\\\":' || CAST(nome AS STRING) || ',' || '\\\"avgbpm\\\":' || CAST(avgbpm AS STRING) || ',' || '\\\"avgtemp\\\":' || CAST(avgtemperature AS STRING) || '}'\").alias(\"value\")            \n",
    "        ) \\\n",
    "        .writeStream\\\n",
    "        .outputMode('complete')\\\n",
    "        .format('console')\\\n",
    "        .option('truncate', 'true')\\\n",
    "        .start()\n",
    "\n"
   ]
  },
  {
   "cell_type": "code",
   "execution_count": 18,
   "id": "51a1febf-2f2a-4a72-8243-c2554e18ff20",
   "metadata": {
    "tags": []
   },
   "outputs": [],
   "source": [
    "\n",
    "# write on kafka topic avgtemperature\n",
    "# here i've chosen as an example to use the eventTime as the key and the value to be the avgtemperature\n",
    "qk = (windowedAvg \n",
    "        .select(\n",
    "            F.expr(\"CAST(eventTime AS STRING)\").alias(\"key\"),\n",
    "            F.expr(\"'{\\\"eventTime\\\":\\\"' || CAST(eventTime AS STRING) || '\\\",' || '\\\"nome\\\":\\\"' || nome || '\\\",' || '\\\"avgbpm\\\":' || CAST(avgbpm AS STRING) || ',' || '\\\"avgtemp\\\":' || CAST(avgtemperature AS STRING) || '}'\").alias(\"value\")            \n",
    "        ) \n",
    "        .writeStream \n",
    "        .format(\"kafka\")\n",
    "        .option(\"kafka.bootstrap.servers\", \"kafka-server:29092\") \n",
    "        .option(\"checkpointLocation\", \"/home/jovyan/work/json/checkpoint\") \n",
    "        .option(\"topic\", \"avg-data\")        \n",
    "        .outputMode(\"complete\") \n",
    "        .start())\n",
    "        \n",
    "#query.awaitTermination()"
   ]
  },
  {
   "cell_type": "code",
   "execution_count": null,
   "id": "9f73f222-700e-4dd6-9a20-93b0724916a0",
   "metadata": {},
   "outputs": [],
   "source": []
  },
  {
   "cell_type": "code",
   "execution_count": null,
   "id": "a202df85-a817-4738-ba5c-ac0367d92583",
   "metadata": {},
   "outputs": [],
   "source": []
  }
 ],
 "metadata": {
  "kernelspec": {
   "display_name": "Python 3",
   "language": "python",
   "name": "python3"
  },
  "language_info": {
   "codemirror_mode": {
    "name": "ipython",
    "version": 3
   },
   "file_extension": ".py",
   "mimetype": "text/x-python",
   "name": "python",
   "nbconvert_exporter": "python",
   "pygments_lexer": "ipython3",
   "version": "3.9.4"
  }
 },
 "nbformat": 4,
 "nbformat_minor": 5
}
