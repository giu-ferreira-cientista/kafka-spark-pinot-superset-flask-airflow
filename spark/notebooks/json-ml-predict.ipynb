{
 "cells": [
  {
   "cell_type": "code",
   "execution_count": 1,
   "metadata": {},
   "outputs": [],
   "source": [
    "import findspark\n",
    "findspark.init()\n",
    "from pyspark.sql import SparkSession\n",
    "import pandas as pd\n",
    "import uuid\n",
    "import random\n",
    "from confluent_kafka import Producer\n",
    "import json\n",
    "from pyspark.sql import SparkSession\n",
    "from pyspark.sql.types import *\n",
    "from pyspark.sql.functions import *\n",
    "import requests"
   ]
  },
  {
   "cell_type": "code",
   "execution_count": 2,
   "metadata": {
    "tags": []
   },
   "outputs": [],
   "source": [
    "\n",
    "# Spark session & context\n",
    "spark = (SparkSession\n",
    "         .builder\n",
    "         .master('local')\n",
    "         .appName('json-ml-predict-consumer')\n",
    "         # Add kafka package\n",
    "         .config(\"spark.jars.packages\", \"org.apache.spark:spark-sql-kafka-0-10_2.12:3.1.1\")\n",
    "         .getOrCreate())\n",
    "sc = spark.sparkContext"
   ]
  },
  {
   "cell_type": "code",
   "execution_count": 3,
   "metadata": {},
   "outputs": [],
   "source": [
    "# Create stream dataframe setting kafka server, topic and offset option\n",
    "df = (spark\n",
    "  .readStream \\\n",
    "  .format(\"kafka\") \\\n",
    "  .option(\"kafka.bootstrap.servers\", \"kafka0:29092\") \\\n",
    "  .option(\"subscribe\", \"national-health-indicators\") \\\n",
    "  .option(\"startingOffsets\", \"earliest\") \\\n",
    "  .load())"
   ]
  },
  {
   "cell_type": "code",
   "execution_count": 5,
   "metadata": {
    "tags": []
   },
   "outputs": [],
   "source": [
    "df_json = df.selectExpr('CAST(value AS STRING) as json')"
   ]
  },
  {
   "cell_type": "code",
   "execution_count": 52,
   "metadata": {
    "tags": []
   },
   "outputs": [],
   "source": [
    "# read a small batch of data from kafka and display to the console\n",
    "\n",
    "mySchema = StructType([\n",
    " StructField(\"id\", IntegerType()),\n",
    " StructField(\"nome\", StringType()),\n",
    " StructField(\"idade\", IntegerType()),\n",
    " StructField(\"sexo\", IntegerType()),\n",
    " StructField(\"peso\", DoubleType()),\n",
    " StructField(\"bpm\", DoubleType()),\n",
    " StructField(\"pressao\", DoubleType()),\n",
    " StructField(\"respiracao\", DoubleType()),\n",
    " StructField(\"temperatura\", DoubleType()),\n",
    " StructField(\"glicemia\", DoubleType()),\n",
    " StructField(\"saturacao_oxigenio\", DoubleType()),\n",
    " StructField(\"estado_atividade\", IntegerType()),\n",
    " StructField(\"dia_de_semana\", IntegerType()),\n",
    " StructField(\"periodo_do_dia\", IntegerType()),\n",
    " StructField(\"semana_do_mes\", IntegerType()),\n",
    " StructField(\"estacao_do_ano\", IntegerType()),\n",
    " StructField(\"passos\", IntegerType()),\n",
    " StructField(\"calorias\", DoubleType()),\n",
    " StructField(\"distancia\", DoubleType()),\n",
    " StructField(\"tempo\", DoubleType()),\n",
    " StructField(\"total_sleep_last_24\", DoubleType()),\n",
    " StructField(\"deep_sleep_last_24\", DoubleType()),\n",
    " StructField(\"light_sleep_last_24\", DoubleType()),\n",
    " StructField(\"awake_last_24\", DoubleType()),\n",
    " StructField(\"timestampstr\", TimestampType())\n",
    " \n",
    "])\n",
    "\n",
    "df_json.select(from_json(df_json.json, mySchema).alias('raw_data')) \\\n",
    "  .select('raw_data.*') \\\n",
    "  .writeStream \\\n",
    "  .trigger(once=True) \\\n",
    "  .format(\"console\") \\\n",
    "  .start() \\\n",
    "  .awaitTermination()"
   ]
  },
  {
   "cell_type": "code",
   "execution_count": 33,
   "metadata": {},
   "outputs": [
    {
     "name": "stdout",
     "output_type": "stream",
     "text": [
      "{\"data\":\"This restaurant is great\"}\n",
      "{\"compound\": 0.6249, \"neg\": 0.0, \"neu\": 0.423, \"pos\": 0.577}\n"
     ]
    }
   ],
   "source": [
    "# Test service\n",
    "import requests\n",
    "import json\n",
    "\n",
    "data_jsons = '{\"data\":\"' + simple_messages[1] + '\"}'\n",
    "print(data_jsons)\n",
    "result = requests.post('http://127.0.0.1:4000/predict', json=json.loads(data_jsons))\n",
    "print(json.dumps(result.json()))\n",
    "\n",
    "#vader_udf = udf(lambda data: apply_sentiment_analysis(data), StringType())"
   ]
  },
  {
   "cell_type": "code",
   "execution_count": 53,
   "metadata": {},
   "outputs": [],
   "source": [
    "def apply_sentiment_analysis(data):\n",
    "    import requests\n",
    "    import json\n",
    "        \n",
    "    result = requests.post('http://localhost:4000/predict', json=json.loads(data))\n",
    "    return json.dumps(result.json())\n",
    "\n",
    "vader_udf = udf(lambda data: apply_sentiment_analysis(data), StringType())"
   ]
  },
  {
   "cell_type": "code",
   "execution_count": null,
   "metadata": {},
   "outputs": [],
   "source": [
    "\n",
    "schema_output = StructType([StructField('neg', StringType()),\\\n",
    "                            StructField('pos', StringType()),\\\n",
    "                            StructField('neu', StringType()),\\\n",
    "                            StructField('compound', StringType())])\n",
    "\n",
    "df_json.select(from_json(df_json.json, mySchema).alias('sentence'),\\\n",
    "               from_json(vader_udf(df_json.json), schema_output).alias('response'))\\\n",
    "  .select('sentence', 'response.*') \\\n",
    "  .writeStream \\\n",
    "  .trigger(once=True) \\\n",
    "  .format(\"console\") \\\n",
    "  .start() \\\n",
    "  .awaitTermination()"
   ]
  }
 ],
 "metadata": {
  "kernelspec": {
   "display_name": "Python 3",
   "language": "python",
   "name": "python3"
  },
  "language_info": {
   "codemirror_mode": {
    "name": "ipython",
    "version": 3
   },
   "file_extension": ".py",
   "mimetype": "text/x-python",
   "name": "python",
   "nbconvert_exporter": "python",
   "pygments_lexer": "ipython3",
   "version": "3.9.4"
  }
 },
 "nbformat": 4,
 "nbformat_minor": 4
}
