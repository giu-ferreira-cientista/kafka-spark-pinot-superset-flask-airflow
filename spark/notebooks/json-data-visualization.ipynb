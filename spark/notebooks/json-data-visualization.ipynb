{
 "cells": [
  {
   "cell_type": "code",
   "execution_count": 15,
   "metadata": {},
   "outputs": [],
   "source": [
    "from pyspark.sql import SparkSession\n",
    "\n",
    "# Spark session & context\n",
    "spark = (SparkSession\n",
    "         .builder\n",
    "         .master('local')\n",
    "         .appName('json-changes-dataviz')\n",
    "         .config(\"spark.sql.streaming.schemaInference\", True) #Stream dataframe infers schema\n",
    "         .getOrCreate())\n",
    "sc = spark.sparkContext"
   ]
  },
  {
   "cell_type": "code",
   "execution_count": 16,
   "metadata": {},
   "outputs": [],
   "source": [
    "# Read parquet stream\n",
    "df_stream = (\n",
    "    spark\n",
    "    .readStream\n",
    "    .format(\"parquet\")\n",
    "    .load(\"/home/jovyan/work/data-lake/json-changes\")\n",
    ")"
   ]
  },
  {
   "cell_type": "code",
   "execution_count": 19,
   "metadata": {},
   "outputs": [],
   "source": [
    "# Create dataframe grouping by window \n",
    "from pyspark.sql.functions import window, col, current_timestamp\n",
    "\n",
    "df_count = (\n",
    "    df_stream\n",
    "    .withWatermark(\"change_timestamp\", \"10 minutes\") # Don't aggregate events arriving more than 10 minutes late\n",
    "    .groupBy(\n",
    "        window(col(\"change_timestamp\"), \"10 minutes\", \"10 minutes\"), # 10 minute window, updating every 10 minutes\n",
    "        col(\"nome\"))\n",
    "    .count()\n",
    ")"
   ]
  },
  {
   "cell_type": "code",
   "execution_count": 20,
   "metadata": {},
   "outputs": [],
   "source": [
    "# Create query stream with memory sink\n",
    "queryStream = (df_count\n",
    " .writeStream\n",
    " .format(\"memory\")\n",
    " .queryName(\"json_changes_ingestion\")\n",
    " .outputMode(\"update\")\n",
    " .start())"
   ]
  },
  {
   "cell_type": "code",
   "execution_count": 25,
   "metadata": {},
   "outputs": [
    {
     "name": "stdout",
     "output_type": "stream",
     "text": [
      "**********************\n",
      "General Info\n",
      "**********************\n",
      "Run:3\n",
      "Stream timestamp:2022-03-19T17:04:47.175Z\n",
      "Watermark:2022-03-30T23:22:56.000Z\n",
      "Total Rows:1\n",
      "Updated Rows:0\n",
      "Memory used MB:0.083448\n",
      "**********************\n",
      "Graph - Top 10 users\n",
      "**********************\n",
      "**********************\n",
      "Table - Top 10 users\n",
      "**********************\n"
     ]
    },
    {
     "data": {
      "text/html": [
       "<div>\n",
       "<style scoped>\n",
       "    .dataframe tbody tr th:only-of-type {\n",
       "        vertical-align: middle;\n",
       "    }\n",
       "\n",
       "    .dataframe tbody tr th {\n",
       "        vertical-align: top;\n",
       "    }\n",
       "\n",
       "    .dataframe thead th {\n",
       "        text-align: right;\n",
       "    }\n",
       "</style>\n",
       "<table border=\"1\" class=\"dataframe\">\n",
       "  <thead>\n",
       "    <tr style=\"text-align: right;\">\n",
       "      <th></th>\n",
       "      <th>start</th>\n",
       "      <th>end</th>\n",
       "      <th>nome</th>\n",
       "    </tr>\n",
       "  </thead>\n",
       "  <tbody>\n",
       "    <tr>\n",
       "      <th>0</th>\n",
       "      <td>2022-03-30 23:30:00</td>\n",
       "      <td>2022-03-30 23:40:00</td>\n",
       "      <td>maria</td>\n",
       "    </tr>\n",
       "  </tbody>\n",
       "</table>\n",
       "</div>"
      ],
      "text/plain": [
       "                start                 end   nome\n",
       "0 2022-03-30 23:30:00 2022-03-30 23:40:00  maria"
      ]
     },
     "metadata": {},
     "output_type": "display_data"
    },
    {
     "name": "stdout",
     "output_type": "stream",
     "text": [
      "**********************\n",
      "Table - Count by aggregation window\n",
      "**********************\n"
     ]
    },
    {
     "data": {
      "text/html": [
       "<div>\n",
       "<style scoped>\n",
       "    .dataframe tbody tr th:only-of-type {\n",
       "        vertical-align: middle;\n",
       "    }\n",
       "\n",
       "    .dataframe tbody tr th {\n",
       "        vertical-align: top;\n",
       "    }\n",
       "\n",
       "    .dataframe thead th {\n",
       "        text-align: right;\n",
       "    }\n",
       "</style>\n",
       "<table border=\"1\" class=\"dataframe\">\n",
       "  <thead>\n",
       "    <tr style=\"text-align: right;\">\n",
       "      <th></th>\n",
       "      <th>start</th>\n",
       "      <th>end</th>\n",
       "      <th>qty_users</th>\n",
       "    </tr>\n",
       "  </thead>\n",
       "  <tbody>\n",
       "    <tr>\n",
       "      <th>0</th>\n",
       "      <td>2022-03-30 23:30:00</td>\n",
       "      <td>2022-03-30 23:40:00</td>\n",
       "      <td>1</td>\n",
       "    </tr>\n",
       "    <tr>\n",
       "      <th>1</th>\n",
       "      <td>2022-03-30 13:40:00</td>\n",
       "      <td>2022-03-30 13:50:00</td>\n",
       "      <td>1</td>\n",
       "    </tr>\n",
       "    <tr>\n",
       "      <th>2</th>\n",
       "      <td>2022-03-30 08:10:00</td>\n",
       "      <td>2022-03-30 08:20:00</td>\n",
       "      <td>1</td>\n",
       "    </tr>\n",
       "    <tr>\n",
       "      <th>3</th>\n",
       "      <td>2022-03-29 14:40:00</td>\n",
       "      <td>2022-03-29 14:50:00</td>\n",
       "      <td>1</td>\n",
       "    </tr>\n",
       "    <tr>\n",
       "      <th>4</th>\n",
       "      <td>2022-03-29 12:20:00</td>\n",
       "      <td>2022-03-29 12:30:00</td>\n",
       "      <td>1</td>\n",
       "    </tr>\n",
       "    <tr>\n",
       "      <th>...</th>\n",
       "      <td>...</td>\n",
       "      <td>...</td>\n",
       "      <td>...</td>\n",
       "    </tr>\n",
       "    <tr>\n",
       "      <th>94</th>\n",
       "      <td>2022-03-01 23:50:00</td>\n",
       "      <td>2022-03-02 00:00:00</td>\n",
       "      <td>1</td>\n",
       "    </tr>\n",
       "    <tr>\n",
       "      <th>95</th>\n",
       "      <td>2022-03-01 20:40:00</td>\n",
       "      <td>2022-03-01 20:50:00</td>\n",
       "      <td>1</td>\n",
       "    </tr>\n",
       "    <tr>\n",
       "      <th>96</th>\n",
       "      <td>2022-03-01 19:40:00</td>\n",
       "      <td>2022-03-01 19:50:00</td>\n",
       "      <td>1</td>\n",
       "    </tr>\n",
       "    <tr>\n",
       "      <th>97</th>\n",
       "      <td>2022-03-01 19:30:00</td>\n",
       "      <td>2022-03-01 19:40:00</td>\n",
       "      <td>1</td>\n",
       "    </tr>\n",
       "    <tr>\n",
       "      <th>98</th>\n",
       "      <td>2022-03-01 17:30:00</td>\n",
       "      <td>2022-03-01 17:40:00</td>\n",
       "      <td>1</td>\n",
       "    </tr>\n",
       "  </tbody>\n",
       "</table>\n",
       "<p>99 rows × 3 columns</p>\n",
       "</div>"
      ],
      "text/plain": [
       "                 start                 end  qty_users\n",
       "0  2022-03-30 23:30:00 2022-03-30 23:40:00          1\n",
       "1  2022-03-30 13:40:00 2022-03-30 13:50:00          1\n",
       "2  2022-03-30 08:10:00 2022-03-30 08:20:00          1\n",
       "3  2022-03-29 14:40:00 2022-03-29 14:50:00          1\n",
       "4  2022-03-29 12:20:00 2022-03-29 12:30:00          1\n",
       "..                 ...                 ...        ...\n",
       "94 2022-03-01 23:50:00 2022-03-02 00:00:00          1\n",
       "95 2022-03-01 20:40:00 2022-03-01 20:50:00          1\n",
       "96 2022-03-01 19:40:00 2022-03-01 19:50:00          1\n",
       "97 2022-03-01 19:30:00 2022-03-01 19:40:00          1\n",
       "98 2022-03-01 17:30:00 2022-03-01 17:40:00          1\n",
       "\n",
       "[99 rows x 3 columns]"
      ]
     },
     "metadata": {},
     "output_type": "display_data"
    },
    {
     "name": "stdout",
     "output_type": "stream",
     "text": [
      "process interrupted.\n"
     ]
    },
    {
     "data": {
      "text/plain": [
       "<Figure size 576x432 with 0 Axes>"
      ]
     },
     "metadata": {},
     "output_type": "display_data"
    },
    {
     "data": {
      "text/plain": [
       "<Figure size 576x432 with 0 Axes>"
      ]
     },
     "metadata": {},
     "output_type": "display_data"
    },
    {
     "data": {
      "text/plain": [
       "<Figure size 576x432 with 0 Axes>"
      ]
     },
     "metadata": {},
     "output_type": "display_data"
    }
   ],
   "source": [
    "from time import sleep\n",
    "from IPython.display import clear_output\n",
    "import seaborn as sns\n",
    "import matplotlib\n",
    "import matplotlib.pyplot as plt\n",
    "\n",
    "matplotlib.rc('font', family='DejaVu Sans')\n",
    "sns.set(style=\"whitegrid\")\n",
    "\n",
    "\n",
    "try:\n",
    "    i=1\n",
    "    while True:\n",
    "        # Clear output\n",
    "        clear_output(wait=True)\n",
    "        print(\"**********************\")\n",
    "        print(\"General Info\")\n",
    "        print(\"**********************\")\n",
    "        print(\"Run:{}\".format(i))\n",
    "        if (len(queryStream.recentProgress) > 0):\n",
    "            print(\"Stream timestamp:{}\".format(queryStream.lastProgress[\"timestamp\"]))\n",
    "            print(\"Watermark:{}\".format(queryStream.lastProgress[\"eventTime\"][\"watermark\"]))\n",
    "            print(\"Total Rows:{}\".format(queryStream.lastProgress[\"stateOperators\"][0][\"numRowsTotal\"]))\n",
    "            print(\"Updated Rows:{}\".format(queryStream.lastProgress[\"stateOperators\"][0][\"numRowsUpdated\"]))\n",
    "            print(\"Memory used MB:{}\".format((queryStream.lastProgress[\"stateOperators\"][0][\"memoryUsedBytes\"]) * 0.000001))\n",
    "            \n",
    "        df = spark.sql(\n",
    "                \"\"\"\n",
    "                    select\n",
    "                        window.start\n",
    "                        ,window.end\n",
    "                        ,nome                        \n",
    "                    from\n",
    "                        json_changes\n",
    "                    where\n",
    "                        window.start = (select max(window.start) from json_changes)\n",
    "                    group by\n",
    "                        window.start\n",
    "                        ,window.end\n",
    "                        ,nome\n",
    "                    order by\n",
    "                        3 desc\n",
    "                    limit 10\n",
    "                \"\"\"\n",
    "        ).toPandas()\n",
    "\n",
    "        # Plot the total crashes\n",
    "        sns.set_color_codes(\"muted\")\n",
    "\n",
    "        # Initialize the matplotlib figure\n",
    "        plt.figure(figsize=(8,6))\n",
    "\n",
    "        print(\"**********************\")\n",
    "        print(\"Graph - Top 10 users\")\n",
    "        print(\"**********************\")\n",
    "        try:\n",
    "            # Barplot\n",
    "            sns.barplot(x=\"count\", y=\"nome\", data=df)\n",
    "\n",
    "            # Show barplot\n",
    "            plt.show()\n",
    "        except ValueError:\n",
    "            # If Dataframe is empty, pass\n",
    "            pass\n",
    "\n",
    "        print(\"**********************\")\n",
    "        print(\"Table - Top 10 users\")\n",
    "        print(\"**********************\")\n",
    "        display(df)\n",
    "        \n",
    "        print(\"**********************\")\n",
    "        print(\"Table - Count by aggregation window\")\n",
    "        print(\"**********************\")\n",
    "        df1 = spark.sql(\n",
    "                \"\"\"\n",
    "                    select\n",
    "                        window.start\n",
    "                        ,window.end                        \n",
    "                        ,count(distinct nome) qty_users\n",
    "                    from\n",
    "                        json_changes\n",
    "                    group by\n",
    "                        window.start\n",
    "                        ,window.end\n",
    "                    order by\n",
    "                        window.start desc\n",
    "                \"\"\"\n",
    "        ).toPandas()\n",
    "        \n",
    "        display(df1)\n",
    "        \n",
    "        sleep(10)\n",
    "        i=i+1\n",
    "except KeyboardInterrupt:\n",
    "    print(\"process interrupted.\")"
   ]
  },
  {
   "cell_type": "code",
   "execution_count": null,
   "metadata": {},
   "outputs": [],
   "source": [
    "# Check active streams\n",
    "for s in spark.streams.active:\n",
    "    print(\"ID:{} | NAME:{}\".format(s.id, s.name))"
   ]
  },
  {
   "cell_type": "code",
   "execution_count": null,
   "metadata": {},
   "outputs": [],
   "source": [
    "# Stop stream\n",
    "queryStream.stop()"
   ]
  }
 ],
 "metadata": {
  "kernelspec": {
   "display_name": "Python 3",
   "language": "python",
   "name": "python3"
  },
  "language_info": {
   "codemirror_mode": {
    "name": "ipython",
    "version": 3
   },
   "file_extension": ".py",
   "mimetype": "text/x-python",
   "name": "python",
   "nbconvert_exporter": "python",
   "pygments_lexer": "ipython3",
   "version": "3.9.4"
  }
 },
 "nbformat": 4,
 "nbformat_minor": 4
}
