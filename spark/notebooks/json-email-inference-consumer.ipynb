{
 "cells": [
  {
   "cell_type": "code",
   "execution_count": 12,
   "id": "2208d5b9-aa28-40c9-b500-196aa490310e",
   "metadata": {},
   "outputs": [],
   "source": [
    "# csv_inference_consumer.py\n",
    "\n",
    "from kafka import KafkaConsumer, KafkaProducer\n",
    "import os\n",
    "import json\n",
    "import uuid\n",
    "from concurrent.futures import ThreadPoolExecutor\n"
   ]
  },
  {
   "cell_type": "code",
   "execution_count": 13,
   "id": "cfd30cb8-c661-4e72-a62f-a58bd69cd664",
   "metadata": {},
   "outputs": [],
   "source": [
    "\n",
    "TOPIC_NAME = \"avg-data\"\n",
    "\n",
    "KAFKA_SERVER = \"kafka-server:29092\"\n",
    "\n",
    "EMAIL_TOPIC = \"EMAIL\"\n"
   ]
  },
  {
   "cell_type": "code",
   "execution_count": 14,
   "id": "6587de9c-a52b-48e6-8a4c-77cb070d3e8a",
   "metadata": {
    "tags": []
   },
   "outputs": [],
   "source": [
    "\n",
    "consumer = KafkaConsumer(\n",
    "    TOPIC_NAME,\n",
    "    bootstrap_servers=[KAFKA_SERVER],\n",
    "    auto_offset_reset='earliest',\n",
    "    enable_auto_commit=False,\n",
    "    # to deserialize kafka.producer.object into dict\n",
    "    #value_deserializer=lambda m: json.loads(m.decode('utf-8')),\n",
    ")\n"
   ]
  },
  {
   "cell_type": "code",
   "execution_count": 15,
   "id": "d271ebe9-8ce8-443d-b99c-3cc09133de8d",
   "metadata": {},
   "outputs": [],
   "source": [
    "producer = KafkaProducer(\n",
    "    bootstrap_servers = KAFKA_SERVER,\n",
    "    api_version = (0, 11, 15)\n",
    ")"
   ]
  },
  {
   "cell_type": "code",
   "execution_count": 16,
   "id": "2e96acbd-2a7f-4cce-bfcd-5f5d3333ea35",
   "metadata": {},
   "outputs": [],
   "source": [
    "def inferenceProcessFunction(data):\n",
    "    # process steps with data in json format      \n",
    "    \n",
    "    #df = pd.DataFrame.from_dict(data)\n",
    "    #hourly_avg = df.groupby(df['timestampstr'].dt.hour)['pressure'].mean()\n",
    "    #print(hourly_avg)\n",
    "    \n",
    "    #json_data = json.loads(data)\n",
    "    \n",
    "    #print(\"bpm:\" + str(json_data['avgbpm']) + ' / ' + \"temp:\" + str(json_data['avgtemp']))\n",
    "    \n",
    "    email_data = data\n",
    "    producer.send(EMAIL_TOPIC, email_data)\n",
    "    producer.flush()\n",
    "    print('Email topic Sent!')\n"
   ]
  },
  {
   "cell_type": "code",
   "execution_count": null,
   "id": "177f3b15-8ec5-428b-9469-df9795392824",
   "metadata": {},
   "outputs": [
    {
     "name": "stdout",
     "output_type": "stream",
     "text": [
      "processing line...\n",
      "processing line...\n",
      "processing line...\n",
      "processing line...\n",
      "processing line...\n",
      "processing line...\n",
      "processing line...\n",
      "processing line...\n",
      "processing line...\n",
      "processing line...\n",
      "processing line...\n",
      "processing line...\n",
      "processing line...\n",
      "processing line...\n",
      "processing line...\n",
      "processing line...\n",
      "processing line...\n",
      "processing line...\n"
     ]
    }
   ],
   "source": [
    "inf_data = []\n",
    "for inf in consumer:\n",
    "    print('processing line...')\n",
    "    inf_data.append(inf.value)\n",
    "\n",
    "inferenceProcessFunction(inf_data)"
   ]
  },
  {
   "cell_type": "code",
   "execution_count": null,
   "id": "634586c9-84d6-475f-9c57-9cdef0fe9562",
   "metadata": {},
   "outputs": [],
   "source": []
  }
 ],
 "metadata": {
  "kernelspec": {
   "display_name": "Python 3",
   "language": "python",
   "name": "python3"
  },
  "language_info": {
   "codemirror_mode": {
    "name": "ipython",
    "version": 3
   },
   "file_extension": ".py",
   "mimetype": "text/x-python",
   "name": "python",
   "nbconvert_exporter": "python",
   "pygments_lexer": "ipython3",
   "version": "3.9.4"
  }
 },
 "nbformat": 4,
 "nbformat_minor": 5
}
