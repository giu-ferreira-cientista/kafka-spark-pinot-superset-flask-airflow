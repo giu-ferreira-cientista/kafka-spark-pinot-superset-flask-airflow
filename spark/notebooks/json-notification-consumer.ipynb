{
 "cells": [
  {
   "cell_type": "code",
   "execution_count": 1,
   "id": "029f3bbd-75a2-498f-9de6-6cee109241ff",
   "metadata": {},
   "outputs": [],
   "source": [
    "# notification_consumer.py\n",
    "from kafka import KafkaConsumer, KafkaProducer\n",
    "import os\n",
    "import json\n",
    "import uuid\n",
    "from concurrent.futures import ThreadPoolExecutor\n",
    "TOPIC_NAME = \"NOTIFICATION\"\n",
    "KAFKA_SERVER = \"kafka-server:29092\""
   ]
  },
  {
   "cell_type": "code",
   "execution_count": 2,
   "id": "9fcbdcf8-fbc4-43a1-a78e-dbd8429adbee",
   "metadata": {},
   "outputs": [],
   "source": [
    "consumer = KafkaConsumer(\n",
    "    TOPIC_NAME,\n",
    "    bootstrap_servers=[KAFKA_SERVER],\n",
    "    enable_auto_commit=False,\n",
    "    # to deserialize kafka.producer.object into dict\n",
    "    #value_deserializer=lambda m: json.loads(m.decode('utf-8')),\n",
    ")"
   ]
  },
  {
   "cell_type": "code",
   "execution_count": 3,
   "id": "2fa2f9b1-9d96-46ca-a1a6-f66fa3aafac8",
   "metadata": {},
   "outputs": [],
   "source": [
    "def sendNotification(data):\n",
    "\t# process steps\n",
    "    print(data)\n",
    "    print(\"ALERTA RECEBIDO! Cheque sua Pressão arterial e sua temperatura! (P >= 120 ou T >= 38)\")\n"
   ]
  },
  {
   "cell_type": "code",
   "execution_count": null,
   "id": "c4fd06f5-cd48-45e3-b2b9-78ab60376e75",
   "metadata": {},
   "outputs": [
    {
     "name": "stdout",
     "output_type": "stream",
     "text": [
      "b'{\"eventTime\":\"2022-03-07 03:15:00\",\"nome\":\"antonio\",\"avgbpm\":55.0,\"avgtemp\":38.0}'\n",
      "ALERTA RECEBIDO! Cheque sua Pressão arterial e sua temperatura! (P > 100 ou T > 38)\n",
      "b'{\"eventTime\":\"2022-03-07 07:25:00\",\"nome\":\"joao\",\"avgbpm\":70.0,\"avgtemp\":38.0}'\n",
      "ALERTA RECEBIDO! Cheque sua Pressão arterial e sua temperatura! (P > 100 ou T > 38)\n",
      "b'{\"eventTime\":\"2022-03-22 14:50:00\",\"nome\":\"maria\",\"avgbpm\":122.0,\"avgtemp\":34.0}'\n",
      "ALERTA RECEBIDO! Cheque sua Pressão arterial e sua temperatura! (P > 100 ou T > 38)\n",
      "b'{\"eventTime\":\"2022-03-22 16:35:00\",\"nome\":\"joao\",\"avgbpm\":49.0,\"avgtemp\":38.0}'\n",
      "ALERTA RECEBIDO! Cheque sua Pressão arterial e sua temperatura! (P > 100 ou T > 38)\n",
      "b'{\"eventTime\":\"2022-03-27 15:55:00\",\"nome\":\"joao\",\"avgbpm\":60.0,\"avgtemp\":38.0}'\n",
      "ALERTA RECEBIDO! Cheque sua Pressão arterial e sua temperatura! (P > 100 ou T > 38)\n",
      "b'{\"eventTime\":\"2022-03-07 03:15:00\",\"nome\":\"antonio\",\"avgbpm\":55.0,\"avgtemp\":38.0}'\n",
      "ALERTA RECEBIDO! Cheque sua Pressão arterial e sua temperatura! (P > 100 ou T > 38)\n",
      "b'{\"eventTime\":\"2022-03-07 07:25:00\",\"nome\":\"joao\",\"avgbpm\":70.0,\"avgtemp\":38.0}'\n",
      "ALERTA RECEBIDO! Cheque sua Pressão arterial e sua temperatura! (P > 100 ou T > 38)\n",
      "b'{\"eventTime\":\"2022-03-22 14:50:00\",\"nome\":\"maria\",\"avgbpm\":122.0,\"avgtemp\":34.0}'\n",
      "ALERTA RECEBIDO! Cheque sua Pressão arterial e sua temperatura! (P > 100 ou T > 38)\n",
      "b'{\"eventTime\":\"2022-03-22 16:35:00\",\"nome\":\"joao\",\"avgbpm\":49.0,\"avgtemp\":38.0}'\n",
      "ALERTA RECEBIDO! Cheque sua Pressão arterial e sua temperatura! (P > 100 ou T > 38)\n",
      "b'{\"eventTime\":\"2022-03-27 15:55:00\",\"nome\":\"joao\",\"avgbpm\":60.0,\"avgtemp\":38.0}'\n",
      "ALERTA RECEBIDO! Cheque sua Pressão arterial e sua temperatura! (P > 100 ou T > 38)\n",
      "b'{\"eventTime\":\"2022-03-07 03:15:00\",\"nome\":\"antonio\",\"avgbpm\":55.0,\"avgtemp\":38.0}'\n",
      "ALERTA RECEBIDO! Cheque sua Pressão arterial e sua temperatura! (P > 100 ou T > 38)\n",
      "b'{\"eventTime\":\"2022-03-07 07:25:00\",\"nome\":\"joao\",\"avgbpm\":70.0,\"avgtemp\":38.0}'\n",
      "ALERTA RECEBIDO! Cheque sua Pressão arterial e sua temperatura! (P > 100 ou T > 38)\n",
      "b'{\"eventTime\":\"2022-03-22 14:50:00\",\"nome\":\"maria\",\"avgbpm\":122.0,\"avgtemp\":34.0}'\n",
      "ALERTA RECEBIDO! Cheque sua Pressão arterial e sua temperatura! (P > 100 ou T > 38)\n",
      "b'{\"eventTime\":\"2022-03-22 16:35:00\",\"nome\":\"joao\",\"avgbpm\":49.0,\"avgtemp\":38.0}'\n",
      "ALERTA RECEBIDO! Cheque sua Pressão arterial e sua temperatura! (P > 100 ou T > 38)\n",
      "b'{\"eventTime\":\"2022-03-27 15:55:00\",\"nome\":\"joao\",\"avgbpm\":60.0,\"avgtemp\":38.0}'\n",
      "ALERTA RECEBIDO! Cheque sua Pressão arterial e sua temperatura! (P > 100 ou T > 38)\n",
      "b'{\"eventTime\":\"2022-03-07 03:15:00\",\"nome\":\"antonio\",\"avgbpm\":55.0,\"avgtemp\":38.0}'\n",
      "ALERTA RECEBIDO! Cheque sua Pressão arterial e sua temperatura! (P > 100 ou T > 38)\n",
      "b'{\"eventTime\":\"2022-03-07 07:25:00\",\"nome\":\"joao\",\"avgbpm\":70.0,\"avgtemp\":38.0}'\n",
      "ALERTA RECEBIDO! Cheque sua Pressão arterial e sua temperatura! (P > 100 ou T > 38)\n",
      "b'{\"eventTime\":\"2022-03-11 17:00:00\",\"nome\":\"joao\",\"avgbpm\":78.0,\"avgtemp\":38.0}'\n",
      "ALERTA RECEBIDO! Cheque sua Pressão arterial e sua temperatura! (P > 100 ou T > 38)\n",
      "b'{\"eventTime\":\"2022-03-22 14:50:00\",\"nome\":\"maria\",\"avgbpm\":122.0,\"avgtemp\":34.0}'\n",
      "ALERTA RECEBIDO! Cheque sua Pressão arterial e sua temperatura! (P > 100 ou T > 38)\n",
      "b'{\"eventTime\":\"2022-03-22 16:35:00\",\"nome\":\"joao\",\"avgbpm\":49.0,\"avgtemp\":38.0}'\n",
      "ALERTA RECEBIDO! Cheque sua Pressão arterial e sua temperatura! (P > 100 ou T > 38)\n",
      "b'{\"eventTime\":\"2022-03-27 15:55:00\",\"nome\":\"joao\",\"avgbpm\":60.0,\"avgtemp\":38.0}'\n",
      "ALERTA RECEBIDO! Cheque sua Pressão arterial e sua temperatura! (P > 100 ou T > 38)\n",
      "b'{\"eventTime\":\"2022-03-29 06:50:00\",\"nome\":\"antonio\",\"avgbpm\":48.0,\"avgtemp\":38.0}'\n",
      "ALERTA RECEBIDO! Cheque sua Pressão arterial e sua temperatura! (P > 100 ou T > 38)\n"
     ]
    }
   ],
   "source": [
    "for notification in consumer:\n",
    "\t\n",
    "\tnotification_data = notification.value\n",
    "\t\n",
    "\tsendNotification(notification_data)\n",
    "\n"
   ]
  },
  {
   "cell_type": "code",
   "execution_count": null,
   "id": "e0d5eb0b-50f1-4373-a16c-a179cf80b8a2",
   "metadata": {},
   "outputs": [],
   "source": []
  }
 ],
 "metadata": {
  "kernelspec": {
   "display_name": "Python 3",
   "language": "python",
   "name": "python3"
  },
  "language_info": {
   "codemirror_mode": {
    "name": "ipython",
    "version": 3
   },
   "file_extension": ".py",
   "mimetype": "text/x-python",
   "name": "python",
   "nbconvert_exporter": "python",
   "pygments_lexer": "ipython3",
   "version": "3.9.4"
  }
 },
 "nbformat": 4,
 "nbformat_minor": 5
}
