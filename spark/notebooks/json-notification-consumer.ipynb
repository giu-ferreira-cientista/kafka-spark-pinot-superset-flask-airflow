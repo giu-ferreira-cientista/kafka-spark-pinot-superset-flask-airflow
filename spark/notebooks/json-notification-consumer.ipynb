{
 "cells": [
  {
   "cell_type": "code",
   "execution_count": 1,
   "id": "029f3bbd-75a2-498f-9de6-6cee109241ff",
   "metadata": {},
   "outputs": [],
   "source": [
    "# notification_consumer.py\n",
    "from kafka import KafkaConsumer, KafkaProducer\n",
    "import os\n",
    "import json\n",
    "import uuid\n",
    "from concurrent.futures import ThreadPoolExecutor\n",
    "TOPIC_NAME = \"NOTIFICATION\"\n",
    "KAFKA_SERVER = \"kafka-server:29092\""
   ]
  },
  {
   "cell_type": "code",
   "execution_count": 2,
   "id": "9fcbdcf8-fbc4-43a1-a78e-dbd8429adbee",
   "metadata": {},
   "outputs": [],
   "source": [
    "consumer = KafkaConsumer(\n",
    "    TOPIC_NAME,\n",
    "    bootstrap_servers=[KAFKA_SERVER],\n",
    "    enable_auto_commit=False,\n",
    "    # to deserialize kafka.producer.object into dict\n",
    "    #value_deserializer=lambda m: json.loads(m.decode('utf-8')),\n",
    ")"
   ]
  },
  {
   "cell_type": "code",
   "execution_count": 3,
   "id": "2fa2f9b1-9d96-46ca-a1a6-f66fa3aafac8",
   "metadata": {},
   "outputs": [],
   "source": [
    "def sendNotification(data):\n",
    "\t# process steps\n",
    "    print(data)\n",
    "    json_data = json.loads(data)\n",
    "\n",
    "    if(json_data['avgbpm'] >= 120):\n",
    "        print(\"\\nALERTA RECEBIDO! Cheque seus batimentos cardiacos! (BPM >= 120)\\n\")\n",
    "\n",
    "    if(json_data['avgtemp'] >= 38):\n",
    "        print(\"\\nALERTA RECEBIDO! Cheque sua temperatura! (T >= 38)\\n\")\n",
    "\n",
    "    if(json_data['avgpressao'] >= 13):\n",
    "        print(\"\\nALERTA RECEBIDO! Cheque sua pressao! (P >= 13)\\n\")\n",
    "\n",
    "    if(json_data['avgrespiracao'] >= 20):\n",
    "        print(\"\\nALERTA RECEBIDO! Cheque sua frequencia respiratoria! (F >= 20)\\n\")\n",
    "\n",
    "    if(json_data['avgglicemia'] >= 100):\n",
    "        print(\"\\nALERTA RECEBIDO! Cheque sua glicemia! (G >= 100)\\n\")\n",
    "\n",
    "    if(json_data['avgsaturacao_oxigenio'] <= 94):\n",
    "        print(\"\\nALERTA RECEBIDO! Cheque sua saturação do oxigenio! (S <= 94)\\n\")\n",
    "   "
   ]
  },
  {
   "cell_type": "code",
   "execution_count": 5,
   "id": "c4fd06f5-cd48-45e3-b2b9-78ab60376e75",
   "metadata": {},
   "outputs": [
    {
     "name": "stdout",
     "output_type": "stream",
     "text": [
      "b'{\"eventTime\":\"2022-03-27 17:55:00\",\"nome\":\"antonio\",\"avgbpm\":62.0,\"avgtemp\":39.0}'\n",
      "\n",
      "ALERTA RECEBIDO! Cheque sua temperatura! (T >= 38)\n",
      "\n"
     ]
    },
    {
     "ename": "KeyError",
     "evalue": "'avgpressao'",
     "output_type": "error",
     "traceback": [
      "\u001b[0;31m---------------------------------------------------------------------------\u001b[0m",
      "\u001b[0;31mKeyError\u001b[0m                                  Traceback (most recent call last)",
      "\u001b[0;32m<ipython-input-5-2d1d5298b7a2>\u001b[0m in \u001b[0;36m<module>\u001b[0;34m\u001b[0m\n\u001b[1;32m      3\u001b[0m         \u001b[0mnotification_data\u001b[0m \u001b[0;34m=\u001b[0m \u001b[0mnotification\u001b[0m\u001b[0;34m.\u001b[0m\u001b[0mvalue\u001b[0m\u001b[0;34m\u001b[0m\u001b[0;34m\u001b[0m\u001b[0m\n\u001b[1;32m      4\u001b[0m \u001b[0;34m\u001b[0m\u001b[0m\n\u001b[0;32m----> 5\u001b[0;31m         \u001b[0msendNotification\u001b[0m\u001b[0;34m(\u001b[0m\u001b[0mnotification_data\u001b[0m\u001b[0;34m)\u001b[0m\u001b[0;34m\u001b[0m\u001b[0;34m\u001b[0m\u001b[0m\n\u001b[0m\u001b[1;32m      6\u001b[0m \u001b[0;34m\u001b[0m\u001b[0m\n",
      "\u001b[0;32m<ipython-input-3-db9a1cb69177>\u001b[0m in \u001b[0;36msendNotification\u001b[0;34m(data)\u001b[0m\n\u001b[1;32m     10\u001b[0m         \u001b[0mprint\u001b[0m\u001b[0;34m(\u001b[0m\u001b[0;34m\"\\nALERTA RECEBIDO! Cheque sua temperatura! (T >= 38)\\n\"\u001b[0m\u001b[0;34m)\u001b[0m\u001b[0;34m\u001b[0m\u001b[0;34m\u001b[0m\u001b[0m\n\u001b[1;32m     11\u001b[0m \u001b[0;34m\u001b[0m\u001b[0m\n\u001b[0;32m---> 12\u001b[0;31m     \u001b[0;32mif\u001b[0m\u001b[0;34m(\u001b[0m\u001b[0mjson_data\u001b[0m\u001b[0;34m[\u001b[0m\u001b[0;34m'avgpressao'\u001b[0m\u001b[0;34m]\u001b[0m \u001b[0;34m>=\u001b[0m \u001b[0;36m13\u001b[0m\u001b[0;34m)\u001b[0m\u001b[0;34m:\u001b[0m\u001b[0;34m\u001b[0m\u001b[0;34m\u001b[0m\u001b[0m\n\u001b[0m\u001b[1;32m     13\u001b[0m         \u001b[0mprint\u001b[0m\u001b[0;34m(\u001b[0m\u001b[0;34m\"\\nALERTA RECEBIDO! Cheque sua pressao! (P >= 13)\\n\"\u001b[0m\u001b[0;34m)\u001b[0m\u001b[0;34m\u001b[0m\u001b[0;34m\u001b[0m\u001b[0m\n\u001b[1;32m     14\u001b[0m \u001b[0;34m\u001b[0m\u001b[0m\n",
      "\u001b[0;31mKeyError\u001b[0m: 'avgpressao'"
     ]
    }
   ],
   "source": [
    "for notification in consumer:\n",
    "\t\n",
    "\tnotification_data = notification.value\n",
    "\t\n",
    "\tsendNotification(notification_data)\n",
    "\n"
   ]
  },
  {
   "cell_type": "code",
   "execution_count": null,
   "id": "e0d5eb0b-50f1-4373-a16c-a179cf80b8a2",
   "metadata": {},
   "outputs": [],
   "source": []
  },
  {
   "cell_type": "code",
   "execution_count": null,
   "id": "10ae7cba-4051-47f5-b322-4d21f1d0cbf1",
   "metadata": {},
   "outputs": [],
   "source": []
  }
 ],
 "metadata": {
  "kernelspec": {
   "display_name": "Python 3",
   "language": "python",
   "name": "python3"
  },
  "language_info": {
   "codemirror_mode": {
    "name": "ipython",
    "version": 3
   },
   "file_extension": ".py",
   "mimetype": "text/x-python",
   "name": "python",
   "nbconvert_exporter": "python",
   "pygments_lexer": "ipython3",
   "version": "3.9.4"
  }
 },
 "nbformat": 4,
 "nbformat_minor": 5
}
